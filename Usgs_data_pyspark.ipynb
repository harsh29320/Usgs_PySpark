{
 "cells": [
  {
   "cell_type": "code",
   "execution_count": 20,
   "metadata": {
    "collapsed": false
   },
   "outputs": [],
   "source": [
    "import findspark\n",
    "findspark.init()\n",
    "import pyspark\n",
    "from pyspark.sql import SQLContext\n",
    "\n",
    "sc = pyspark.SparkContext()\n",
    "sqlContext = SQLContext(sc)\n",
    "\n",
    "import pandas as pd"
   ]
  },
  {
   "cell_type": "code",
   "execution_count": 16,
   "metadata": {
    "collapsed": false
   },
   "outputs": [],
   "source": [
    "flow_data = sqlContext.read\\\n",
    "    .format(\"com.databricks.spark.csv\")\\\n",
    "\t.option(\"delimiter\", \"\\t\")\\\n",
    "    .option(\"header\", \"true\")\\\n",
    "    .load(\"Usgs/Flow_data\")"
   ]
  },
  {
   "cell_type": "code",
   "execution_count": 17,
   "metadata": {
    "collapsed": false
   },
   "outputs": [
    {
     "data": {
      "text/plain": [
       "Row(agency_cd='USGS', site_no='12502500', datetime='2007-01-01', 149973_00060_00003='52.8', 149973_00060_00003_cd='A', 149974_00065_00003='3.48', 149974_00065_00003_cd='A')"
      ]
     },
     "execution_count": 17,
     "metadata": {},
     "output_type": "execute_result"
    }
   ],
   "source": [
    "flow_data.head()"
   ]
  },
  {
   "cell_type": "code",
   "execution_count": 23,
   "metadata": {
    "collapsed": false
   },
   "outputs": [
    {
     "data": {
      "text/html": [
       "<div>\n",
       "<table border=\"1\" class=\"dataframe\">\n",
       "  <thead>\n",
       "    <tr style=\"text-align: right;\">\n",
       "      <th></th>\n",
       "      <th>0</th>\n",
       "      <th>1</th>\n",
       "      <th>2</th>\n",
       "      <th>3</th>\n",
       "      <th>4</th>\n",
       "    </tr>\n",
       "  </thead>\n",
       "  <tbody>\n",
       "    <tr>\n",
       "      <th>agency_cd</th>\n",
       "      <td>USGS</td>\n",
       "      <td>USGS</td>\n",
       "      <td>USGS</td>\n",
       "      <td>USGS</td>\n",
       "      <td>USGS</td>\n",
       "    </tr>\n",
       "    <tr>\n",
       "      <th>site_no</th>\n",
       "      <td>12502500</td>\n",
       "      <td>12502500</td>\n",
       "      <td>12502500</td>\n",
       "      <td>12502500</td>\n",
       "      <td>12502500</td>\n",
       "    </tr>\n",
       "    <tr>\n",
       "      <th>datetime</th>\n",
       "      <td>2007-01-01</td>\n",
       "      <td>2007-01-02</td>\n",
       "      <td>2007-01-03</td>\n",
       "      <td>2007-01-04</td>\n",
       "      <td>2007-01-05</td>\n",
       "    </tr>\n",
       "    <tr>\n",
       "      <th>149973_00060_00003</th>\n",
       "      <td>52.8</td>\n",
       "      <td>59.1</td>\n",
       "      <td>168</td>\n",
       "      <td>178</td>\n",
       "      <td>146</td>\n",
       "    </tr>\n",
       "    <tr>\n",
       "      <th>149973_00060_00003_cd</th>\n",
       "      <td>A</td>\n",
       "      <td>A</td>\n",
       "      <td>A</td>\n",
       "      <td>A</td>\n",
       "      <td>A</td>\n",
       "    </tr>\n",
       "    <tr>\n",
       "      <th>149974_00065_00003</th>\n",
       "      <td>3.48</td>\n",
       "      <td>3.55</td>\n",
       "      <td>4.35</td>\n",
       "      <td>4.43</td>\n",
       "      <td>4.23</td>\n",
       "    </tr>\n",
       "    <tr>\n",
       "      <th>149974_00065_00003_cd</th>\n",
       "      <td>A</td>\n",
       "      <td>A</td>\n",
       "      <td>A</td>\n",
       "      <td>A</td>\n",
       "      <td>A</td>\n",
       "    </tr>\n",
       "  </tbody>\n",
       "</table>\n",
       "</div>"
      ],
      "text/plain": [
       "                                0           1           2           3  \\\n",
       "agency_cd                    USGS        USGS        USGS        USGS   \n",
       "site_no                  12502500    12502500    12502500    12502500   \n",
       "datetime               2007-01-01  2007-01-02  2007-01-03  2007-01-04   \n",
       "149973_00060_00003           52.8        59.1         168         178   \n",
       "149973_00060_00003_cd           A           A           A           A   \n",
       "149974_00065_00003           3.48        3.55        4.35        4.43   \n",
       "149974_00065_00003_cd           A           A           A           A   \n",
       "\n",
       "                                4  \n",
       "agency_cd                    USGS  \n",
       "site_no                  12502500  \n",
       "datetime               2007-01-05  \n",
       "149973_00060_00003            146  \n",
       "149973_00060_00003_cd           A  \n",
       "149974_00065_00003           4.23  \n",
       "149974_00065_00003_cd           A  "
      ]
     },
     "execution_count": 23,
     "metadata": {},
     "output_type": "execute_result"
    }
   ],
   "source": [
    "pd.DataFrame(flow_data.take(5), columns=flow_data.columns).transpose()"
   ]
  },
  {
   "cell_type": "code",
   "execution_count": null,
   "metadata": {
    "collapsed": false
   },
   "outputs": [],
   "source": []
  },
  {
   "cell_type": "code",
   "execution_count": null,
   "metadata": {
    "collapsed": true
   },
   "outputs": [],
   "source": []
  }
 ],
 "metadata": {
  "anaconda-cloud": {},
  "kernelspec": {
   "display_name": "Python [default]",
   "language": "python",
   "name": "python3"
  },
  "language_info": {
   "codemirror_mode": {
    "name": "ipython",
    "version": 3
   },
   "file_extension": ".py",
   "mimetype": "text/x-python",
   "name": "python",
   "nbconvert_exporter": "python",
   "pygments_lexer": "ipython3",
   "version": "3.5.2"
  }
 },
 "nbformat": 4,
 "nbformat_minor": 1
}
